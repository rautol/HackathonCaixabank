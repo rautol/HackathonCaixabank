{
 "cells": [
  {
   "cell_type": "code",
   "execution_count": 1222,
   "id": "fc844f94",
   "metadata": {},
   "outputs": [],
   "source": [
    "import math\n",
    "from math import sqrt\n",
    "\n",
    "#Data management\n",
    "import joblib\n",
    "import pandas as pd\n",
    "from pandas import Series, DataFrame\n",
    "import numpy as np\n",
    "import pandas_profiling\n",
    "from time import time\n",
    "from pandas.api.types import CategoricalDtype\n",
    "#plotting\n",
    "%matplotlib inline\n",
    "import matplotlib.pyplot as plt\n",
    "import seaborn as sns\n",
    "from mpl_toolkits.mplot3d import Axes3D\n",
    "import plotly\n",
    "import plotly.graph_objs as go\n",
    "import plotly.express as px\n",
    "\n",
    "#sci-kit learn\n",
    "from sklearn.feature_selection import RFE, VarianceThreshold, SelectKBest, chi2\n",
    "from sklearn.decomposition import PCA\n",
    "from sklearn.preprocessing import StandardScaler, normalize\n",
    "from sklearn.metrics import accuracy_score, precision_score, recall_score, classification_report, confusion_matrix, mean_squared_error, r2_score, mean_absolute_error\n",
    "from sklearn.ensemble import StackingClassifier, RandomForestClassifier, GradientBoostingClassifier\n",
    "from sklearn.model_selection import cross_val_score, train_test_split, KFold, RepeatedStratifiedKFold, GridSearchCV, RandomizedSearchCV\n",
    "from sklearn.neighbors import KNeighborsClassifier, KNeighborsRegressor\n",
    "from sklearn.neural_network import MLPClassifier, MLPRegressor\n",
    "from sklearn.svm import SVC, SVR\n",
    "from sklearn.linear_model import LogisticRegression\n",
    "\n",
    "\n",
    "import warnings\n",
    "warnings.filterwarnings('ignore', category=FutureWarning)\n",
    "warnings.filterwarnings('ignore', category=DeprecationWarning)\n",
    "\n",
    "\n",
    "#Definitions\n",
    "#\n",
    "\n",
    "#print results of tunning hyperparameters\n",
    "def print_results(results):\n",
    "    print('Best params: {}\\n' .format(results.best_params_))\n",
    "    means = results.cv_results_['mean_test_score']\n",
    "    stds = results.cv_results_['std_test_score']\n",
    "    for mean, std, params in zip(means, stds, results.cv_results_['params']):\n",
    "        print('{} (+/-{}) for {}'.format(round(mean,3), round(std * 2, 3), params))\n",
    "    \n",
    "    \n",
    "def evaluate_model(name, model, features, labels):\n",
    "    start = time()\n",
    "    pred = model.predict (features)\n",
    "    end = time()\n",
    "    accuracy = round(accuracy_score(labels,pred),3)\n",
    "    precision = round(precision_score(labels,pred,average='micro'),3)\n",
    "    recall = round(recall_score(labels,pred,average='micro'),3)\n",
    "    print('{} / Accuracy {} / Precision {} / Recall {} / Latency {} ms'.format(name,accuracy,precision,recall,round (end-start)) )\n",
    "    \n",
    "\n"
   ]
  },
  {
   "cell_type": "code",
   "execution_count": 1223,
   "id": "b2a36c27",
   "metadata": {},
   "outputs": [],
   "source": [
    "trainset  = pd.read_csv('train.csv')\n",
    "tweets = pd.read_csv('tweets_from2015_#Ibex35.csv')\n",
    "testset = pd.read_csv('test_x.csv')"
   ]
  },
  {
   "cell_type": "code",
   "execution_count": 1224,
   "id": "55ae7078",
   "metadata": {},
   "outputs": [],
   "source": [
    "\n",
    "trainset.drop_duplicates(inplace=True)\n",
    "trainset.dropna(inplace=True)\n",
    "trainsetND=trainset.drop(\"Date\", axis=1)"
   ]
  },
  {
   "cell_type": "code",
   "execution_count": 1225,
   "id": "7fe2ba18",
   "metadata": {
    "scrolled": true
   },
   "outputs": [],
   "source": [
    "#Se da un formato más manejable para el volumen\n",
    "trainsetND['Volume']=trainsetND['Volume']/100000"
   ]
  },
  {
   "cell_type": "code",
   "execution_count": 1226,
   "id": "6402071e",
   "metadata": {},
   "outputs": [
    {
     "data": {
      "text/html": [
       "<div>\n",
       "<style scoped>\n",
       "    .dataframe tbody tr th:only-of-type {\n",
       "        vertical-align: middle;\n",
       "    }\n",
       "\n",
       "    .dataframe tbody tr th {\n",
       "        vertical-align: top;\n",
       "    }\n",
       "\n",
       "    .dataframe thead th {\n",
       "        text-align: right;\n",
       "    }\n",
       "</style>\n",
       "<table border=\"1\" class=\"dataframe\">\n",
       "  <thead>\n",
       "    <tr style=\"text-align: right;\">\n",
       "      <th></th>\n",
       "      <th>Open</th>\n",
       "      <th>High</th>\n",
       "      <th>Low</th>\n",
       "      <th>Close</th>\n",
       "      <th>Adj Close</th>\n",
       "      <th>Volume</th>\n",
       "      <th>Target</th>\n",
       "    </tr>\n",
       "  </thead>\n",
       "  <tbody>\n",
       "    <tr>\n",
       "      <th>0</th>\n",
       "      <td>3615.199951</td>\n",
       "      <td>3654.699951</td>\n",
       "      <td>3581.000000</td>\n",
       "      <td>3654.500000</td>\n",
       "      <td>3654.496338</td>\n",
       "      <td>0.000</td>\n",
       "      <td>0</td>\n",
       "    </tr>\n",
       "    <tr>\n",
       "      <th>1</th>\n",
       "      <td>3654.500000</td>\n",
       "      <td>3675.500000</td>\n",
       "      <td>3625.100098</td>\n",
       "      <td>3630.300049</td>\n",
       "      <td>3630.296387</td>\n",
       "      <td>0.000</td>\n",
       "      <td>1</td>\n",
       "    </tr>\n",
       "    <tr>\n",
       "      <th>2</th>\n",
       "      <td>3625.199951</td>\n",
       "      <td>3625.199951</td>\n",
       "      <td>3583.399902</td>\n",
       "      <td>3621.199951</td>\n",
       "      <td>3621.196289</td>\n",
       "      <td>0.000</td>\n",
       "      <td>1</td>\n",
       "    </tr>\n",
       "    <tr>\n",
       "      <th>4</th>\n",
       "      <td>3621.199951</td>\n",
       "      <td>3644.399902</td>\n",
       "      <td>3598.699951</td>\n",
       "      <td>3636.399902</td>\n",
       "      <td>3636.396240</td>\n",
       "      <td>0.000</td>\n",
       "      <td>1</td>\n",
       "    </tr>\n",
       "    <tr>\n",
       "      <th>5</th>\n",
       "      <td>3655.199951</td>\n",
       "      <td>3678.199951</td>\n",
       "      <td>3655.199951</td>\n",
       "      <td>3660.600098</td>\n",
       "      <td>3660.596436</td>\n",
       "      <td>0.000</td>\n",
       "      <td>1</td>\n",
       "    </tr>\n",
       "    <tr>\n",
       "      <th>...</th>\n",
       "      <td>...</td>\n",
       "      <td>...</td>\n",
       "      <td>...</td>\n",
       "      <td>...</td>\n",
       "      <td>...</td>\n",
       "      <td>...</td>\n",
       "      <td>...</td>\n",
       "    </tr>\n",
       "    <tr>\n",
       "      <th>6549</th>\n",
       "      <td>9150.299805</td>\n",
       "      <td>9211.099609</td>\n",
       "      <td>9141.400391</td>\n",
       "      <td>9174.599609</td>\n",
       "      <td>9174.599609</td>\n",
       "      <td>1216.731</td>\n",
       "      <td>0</td>\n",
       "    </tr>\n",
       "    <tr>\n",
       "      <th>6550</th>\n",
       "      <td>9225.900391</td>\n",
       "      <td>9294.599609</td>\n",
       "      <td>9204.700195</td>\n",
       "      <td>9216.400391</td>\n",
       "      <td>9216.400391</td>\n",
       "      <td>601.780</td>\n",
       "      <td>0</td>\n",
       "    </tr>\n",
       "    <tr>\n",
       "      <th>6551</th>\n",
       "      <td>9220.400391</td>\n",
       "      <td>9224.900391</td>\n",
       "      <td>9132.900391</td>\n",
       "      <td>9191.799805</td>\n",
       "      <td>9191.799805</td>\n",
       "      <td>2189.008</td>\n",
       "      <td>0</td>\n",
       "    </tr>\n",
       "    <tr>\n",
       "      <th>6552</th>\n",
       "      <td>9113.200195</td>\n",
       "      <td>9116.700195</td>\n",
       "      <td>9035.099609</td>\n",
       "      <td>9080.500000</td>\n",
       "      <td>9080.500000</td>\n",
       "      <td>1489.871</td>\n",
       "      <td>0</td>\n",
       "    </tr>\n",
       "    <tr>\n",
       "      <th>6553</th>\n",
       "      <td>9120.799805</td>\n",
       "      <td>9175.200195</td>\n",
       "      <td>9114.099609</td>\n",
       "      <td>9157.799805</td>\n",
       "      <td>9157.799805</td>\n",
       "      <td>1013.892</td>\n",
       "      <td>0</td>\n",
       "    </tr>\n",
       "  </tbody>\n",
       "</table>\n",
       "<p>6421 rows × 7 columns</p>\n",
       "</div>"
      ],
      "text/plain": [
       "             Open         High          Low        Close    Adj Close  \\\n",
       "0     3615.199951  3654.699951  3581.000000  3654.500000  3654.496338   \n",
       "1     3654.500000  3675.500000  3625.100098  3630.300049  3630.296387   \n",
       "2     3625.199951  3625.199951  3583.399902  3621.199951  3621.196289   \n",
       "4     3621.199951  3644.399902  3598.699951  3636.399902  3636.396240   \n",
       "5     3655.199951  3678.199951  3655.199951  3660.600098  3660.596436   \n",
       "...           ...          ...          ...          ...          ...   \n",
       "6549  9150.299805  9211.099609  9141.400391  9174.599609  9174.599609   \n",
       "6550  9225.900391  9294.599609  9204.700195  9216.400391  9216.400391   \n",
       "6551  9220.400391  9224.900391  9132.900391  9191.799805  9191.799805   \n",
       "6552  9113.200195  9116.700195  9035.099609  9080.500000  9080.500000   \n",
       "6553  9120.799805  9175.200195  9114.099609  9157.799805  9157.799805   \n",
       "\n",
       "        Volume  Target  \n",
       "0        0.000       0  \n",
       "1        0.000       1  \n",
       "2        0.000       1  \n",
       "4        0.000       1  \n",
       "5        0.000       1  \n",
       "...        ...     ...  \n",
       "6549  1216.731       0  \n",
       "6550   601.780       0  \n",
       "6551  2189.008       0  \n",
       "6552  1489.871       0  \n",
       "6553  1013.892       0  \n",
       "\n",
       "[6421 rows x 7 columns]"
      ]
     },
     "execution_count": 1226,
     "metadata": {},
     "output_type": "execute_result"
    }
   ],
   "source": [
    "trainsetND"
   ]
  },
  {
   "cell_type": "code",
   "execution_count": 1227,
   "id": "138563a9",
   "metadata": {},
   "outputs": [],
   "source": [
    "#Se calcula las diferencia entre distintos puntos de la vela que se forma con los datos\n",
    "trainsetND['diffCO']=trainsetND['Close']-trainsetND['Open']\n",
    "trainsetND['diffACO']=trainsetND['Adj Close']-trainsetND['Open']\n",
    "trainsetND['diffHL']=trainsetND['High']-trainsetND['Low']\n",
    "trainsetND['diffHO']=trainsetND['High']-trainsetND['Open']\n",
    "trainsetND['diffOL']=trainsetND['Open']-trainsetND['Low']\n",
    "trainsetND['diffHC']=trainsetND['High']-trainsetND['Adj Close']\n",
    "trainsetND['diffLC']=trainsetND['Low']-trainsetND['Adj Close']\n"
   ]
  },
  {
   "cell_type": "code",
   "execution_count": 1228,
   "id": "e2f4085a",
   "metadata": {},
   "outputs": [],
   "source": [
    "#Se eliminan unos cuantos outliers\n",
    "trainsetND = trainsetND.drop(trainsetND[trainsetND['Volume']>5000].index)\n",
    "#Eliminamos un volumen bajo porque no da información relevante del mercado\n",
    "trainsetND = trainsetND.drop(trainsetND[trainsetND['Volume']<1000].index)\n",
    "trainsetND = trainsetND.drop(trainsetND[trainsetND['diffHC']>225].index)\n",
    "trainsetND = trainsetND.drop(trainsetND[trainsetND['diffOL']>225].index)\n",
    "#trainsetND = trainsetND.drop(trainsetND[trainsetND['diffHL']<100].index)\n",
    "#trainsetND = trainsetND.drop(trainsetND[trainsetND['diffHL']>350].index)\n",
    "\n"
   ]
  },
  {
   "cell_type": "code",
   "execution_count": 1229,
   "id": "207b797c",
   "metadata": {},
   "outputs": [],
   "source": [
    "trainsetND['UpDown'] = ((trainsetND['Adj Close']>trainsetND['Open'])*1).astype('category')\n",
    "trainsetND['VolumeDump'] = ((trainsetND['Volume']>2750)*1).astype('category')\n",
    "trainsetND['Color']=trainsetND['diffACO']>0\n",
    "trainsetND['Alcista']=((trainsetND['diffOL']<100)&(trainsetND['diffHC']<50)*1).astype('str')\n",
    "trainsetND['diffOLDump'] = ((trainsetND['diffOL']<100)*1).astype('category')\n",
    "\n",
    "\n",
    "\n",
    "\n",
    "\n",
    "\n"
   ]
  },
  {
   "cell_type": "code",
   "execution_count": null,
   "id": "a6770ebd",
   "metadata": {},
   "outputs": [],
   "source": []
  },
  {
   "cell_type": "code",
   "execution_count": 1230,
   "id": "26ed68bf",
   "metadata": {},
   "outputs": [
    {
     "data": {
      "text/plain": [
       "4311    0\n",
       "4312    0\n",
       "4314    0\n",
       "4315    0\n",
       "4317    1\n",
       "       ..\n",
       "6548    0\n",
       "6549    0\n",
       "6551    1\n",
       "6552    0\n",
       "6553    0\n",
       "Name: bins, Length: 2036, dtype: object"
      ]
     },
     "execution_count": 1230,
     "metadata": {},
     "output_type": "execute_result"
    }
   ],
   "source": [
    "#Discretizamos la varaible volumen, la decisión que se ha tomado ha sido observando los gráficos siguientes\n",
    "trainsetND['bins'] = (pd.cut(x=trainsetND['Volume'], bins=[1, 1750, 2750, 5000],labels=['0','1','2'])).astype('str')\n",
    "trainsetND['bins']"
   ]
  },
  {
   "cell_type": "code",
   "execution_count": 1231,
   "id": "23bca47f",
   "metadata": {
    "scrolled": false
   },
   "outputs": [
    {
     "data": {
      "text/plain": [
       "[<matplotlib.lines.Line2D at 0x26b501ff3a0>]"
      ]
     },
     "execution_count": 1231,
     "metadata": {},
     "output_type": "execute_result"
    },
    {
     "data": {
      "image/png": "[encoded data removed]",
      "text/plain": [
       "<Figure size 432x288 with 1 Axes>"
      ]
     },
     "metadata": {
      "needs_background": "light"
     },
     "output_type": "display_data"
    }
   ],
   "source": [
    "plt.plot(trainsetND['Volume'])"
   ]
  },
  {
   "cell_type": "code",
   "execution_count": 1232,
   "id": "0a608f10",
   "metadata": {
    "scrolled": false
   },
   "outputs": [
    {
     "data": {
      "text/plain": [
       "<AxesSubplot:xlabel='Target', ylabel='Volume'>"
      ]
     },
     "execution_count": 1232,
     "metadata": {},
     "output_type": "execute_result"
    },
    {
     "data": {
      "image/png": "[encoded data removed]",
      "text/plain": [
       "<Figure size 432x288 with 1 Axes>"
      ]
     },
     "metadata": {
      "needs_background": "light"
     },
     "output_type": "display_data"
    }
   ],
   "source": [
    "sns.boxplot(x=\"Target\", y=\"Volume\", data=trainsetND)"
   ]
  },
  {
   "cell_type": "code",
   "execution_count": 1233,
   "id": "4b758ae2",
   "metadata": {
    "scrolled": true
   },
   "outputs": [
    {
     "data": {
      "text/plain": [
       "<AxesSubplot:ylabel='Volume'>"
      ]
     },
     "execution_count": 1233,
     "metadata": {},
     "output_type": "execute_result"
    },
    {
     "data": {
      "image/png": "[encoded data removed]",
      "text/plain": [
       "<Figure size 432x288 with 1 Axes>"
      ]
     },
     "metadata": {
      "needs_background": "light"
     },
     "output_type": "display_data"
    }
   ],
   "source": [
    "sns.boxplot(y=\"Volume\", data=trainsetND)"
   ]
  },
  {
   "cell_type": "code",
   "execution_count": 1234,
   "id": "b1f6433f",
   "metadata": {
    "scrolled": false
   },
   "outputs": [
    {
     "data": {
      "text/plain": [
       "<AxesSubplot:ylabel='diffHL'>"
      ]
     },
     "execution_count": 1234,
     "metadata": {},
     "output_type": "execute_result"
    },
    {
     "data": {
      "image/png": "[encoded data removed]",
      "text/plain": [
       "<Figure size 432x288 with 1 Axes>"
      ]
     },
     "metadata": {
      "needs_background": "light"
     },
     "output_type": "display_data"
    }
   ],
   "source": [
    "sns.boxplot(y=\"diffHL\", data=trainsetND)"
   ]
  },
  {
   "cell_type": "code",
   "execution_count": 1235,
   "id": "1ae4e735",
   "metadata": {
    "scrolled": true
   },
   "outputs": [
    {
     "data": {
      "text/plain": [
       "<AxesSubplot:ylabel='diffOL'>"
      ]
     },
     "execution_count": 1235,
     "metadata": {},
     "output_type": "execute_result"
    },
    {
     "data": {
      "image/png": "[encoded data removed]",
      "text/plain": [
       "<Figure size 432x288 with 1 Axes>"
      ]
     },
     "metadata": {
      "needs_background": "light"
     },
     "output_type": "display_data"
    }
   ],
   "source": [
    "sns.boxplot(y=\"diffOL\", data=trainsetND)"
   ]
  },
  {
   "cell_type": "code",
   "execution_count": 1236,
   "id": "e56bc485",
   "metadata": {
    "scrolled": true
   },
   "outputs": [
    {
     "data": {
      "text/plain": [
       "<AxesSubplot:xlabel='Target', ylabel='diffOL'>"
      ]
     },
     "execution_count": 1236,
     "metadata": {},
     "output_type": "execute_result"
    },
    {
     "data": {
      "image/png": "[encoded data removed]",
      "text/plain": [
       "<Figure size 432x288 with 1 Axes>"
      ]
     },
     "metadata": {
      "needs_background": "light"
     },
     "output_type": "display_data"
    }
   ],
   "source": [
    "sns.boxplot(x=\"Target\", y=\"diffOL\", data=trainsetND)"
   ]
  },
  {
   "cell_type": "code",
   "execution_count": 1237,
   "id": "996e5198",
   "metadata": {
    "scrolled": false
   },
   "outputs": [
    {
     "data": {
      "text/plain": [
       "<AxesSubplot:xlabel='Target', ylabel='diffHC'>"
      ]
     },
     "execution_count": 1237,
     "metadata": {},
     "output_type": "execute_result"
    },
    {
     "data": {
      "image/png": "[encoded data removed]",
      "text/plain": [
       "<Figure size 432x288 with 1 Axes>"
      ]
     },
     "metadata": {
      "needs_background": "light"
     },
     "output_type": "display_data"
    }
   ],
   "source": [
    "sns.boxplot(x=\"Target\", y=\"diffHC\", data=trainsetND)"
   ]
  },
  {
   "cell_type": "code",
   "execution_count": 1238,
   "id": "b31412ad",
   "metadata": {
    "scrolled": true
   },
   "outputs": [
    {
     "data": {
      "text/plain": [
       "<seaborn.axisgrid.FacetGrid at 0x26b5164d2e0>"
      ]
     },
     "execution_count": 1238,
     "metadata": {},
     "output_type": "execute_result"
    },
    {
     "data": {
      "image/png": "[encoded data removed]",
      "text/plain": [
       "<Figure size 906.375x216 with 1 Axes>"
      ]
     },
     "metadata": {
      "needs_background": "light"
     },
     "output_type": "display_data"
    }
   ],
   "source": [
    "fig = sns.FacetGrid(trainsetND, hue='Target', aspect=4)\n",
    "fig.map(sns.kdeplot, 'Volume', shade=True)\n",
    "oldest = trainsetND['Volume'].max()\n",
    "minim = trainsetND['Volume'].min()\n",
    "fig.set(xlim=(minim,oldest))\n",
    "fig.set(title='Distribution of volume by target')\n",
    "fig.add_legend()"
   ]
  },
  {
   "cell_type": "code",
   "execution_count": 1239,
   "id": "d429bee0",
   "metadata": {
    "scrolled": true
   },
   "outputs": [
    {
     "data": {
      "text/plain": [
       "<seaborn.axisgrid.FacetGrid at 0x26b51736a90>"
      ]
     },
     "execution_count": 1239,
     "metadata": {},
     "output_type": "execute_result"
    },
    {
     "data": {
      "image/png": "[encoded data removed]",
      "text/plain": [
       "<Figure size 906.375x216 with 1 Axes>"
      ]
     },
     "metadata": {
      "needs_background": "light"
     },
     "output_type": "display_data"
    }
   ],
   "source": [
    "fig = sns.FacetGrid(trainsetND, hue='Target', aspect=4)\n",
    "fig.map(sns.kdeplot, 'diffHL', shade=True)\n",
    "oldest = trainsetND['diffHL'].max()\n",
    "minim = trainsetND['diffHL'].min()\n",
    "fig.set(xlim=(minim,oldest))\n",
    "fig.set(title='Distribution of diffHL by target')\n",
    "fig.add_legend()"
   ]
  },
  {
   "cell_type": "code",
   "execution_count": 1240,
   "id": "1129d3cd",
   "metadata": {
    "scrolled": true
   },
   "outputs": [
    {
     "data": {
      "text/html": [
       "<div>\n",
       "<style scoped>\n",
       "    .dataframe tbody tr th:only-of-type {\n",
       "        vertical-align: middle;\n",
       "    }\n",
       "\n",
       "    .dataframe tbody tr th {\n",
       "        vertical-align: top;\n",
       "    }\n",
       "\n",
       "    .dataframe thead th {\n",
       "        text-align: right;\n",
       "    }\n",
       "</style>\n",
       "<table border=\"1\" class=\"dataframe\">\n",
       "  <thead>\n",
       "    <tr style=\"text-align: right;\">\n",
       "      <th></th>\n",
       "      <th>Open</th>\n",
       "      <th>High</th>\n",
       "      <th>Low</th>\n",
       "      <th>Close</th>\n",
       "      <th>Adj Close</th>\n",
       "      <th>Volume</th>\n",
       "      <th>Target</th>\n",
       "      <th>diffCO</th>\n",
       "      <th>diffACO</th>\n",
       "      <th>diffHL</th>\n",
       "      <th>diffHO</th>\n",
       "      <th>diffOL</th>\n",
       "      <th>diffHC</th>\n",
       "      <th>diffLC</th>\n",
       "      <th>UpDown</th>\n",
       "      <th>VolumeDump</th>\n",
       "      <th>Color</th>\n",
       "      <th>Alcista</th>\n",
       "      <th>diffOLDump</th>\n",
       "      <th>bins</th>\n",
       "    </tr>\n",
       "  </thead>\n",
       "  <tbody>\n",
       "    <tr>\n",
       "      <th>4311</th>\n",
       "      <td>10117.099609</td>\n",
       "      <td>10306.200195</td>\n",
       "      <td>10087.700195</td>\n",
       "      <td>10221.200195</td>\n",
       "      <td>10221.189453</td>\n",
       "      <td>1199.380</td>\n",
       "      <td>0</td>\n",
       "      <td>104.100586</td>\n",
       "      <td>104.089844</td>\n",
       "      <td>218.500000</td>\n",
       "      <td>189.100586</td>\n",
       "      <td>29.399414</td>\n",
       "      <td>85.010742</td>\n",
       "      <td>-133.489258</td>\n",
       "      <td>1</td>\n",
       "      <td>0</td>\n",
       "      <td>True</td>\n",
       "      <td>False</td>\n",
       "      <td>1</td>\n",
       "      <td>0</td>\n",
       "    </tr>\n",
       "    <tr>\n",
       "      <th>4312</th>\n",
       "      <td>10129.500000</td>\n",
       "      <td>10140.700195</td>\n",
       "      <td>9954.799805</td>\n",
       "      <td>10052.299805</td>\n",
       "      <td>10052.290039</td>\n",
       "      <td>1579.790</td>\n",
       "      <td>1</td>\n",
       "      <td>-77.200195</td>\n",
       "      <td>-77.209961</td>\n",
       "      <td>185.900390</td>\n",
       "      <td>11.200195</td>\n",
       "      <td>174.700195</td>\n",
       "      <td>88.410156</td>\n",
       "      <td>-97.490234</td>\n",
       "      <td>0</td>\n",
       "      <td>0</td>\n",
       "      <td>False</td>\n",
       "      <td>False</td>\n",
       "      <td>0</td>\n",
       "      <td>0</td>\n",
       "    </tr>\n",
       "    <tr>\n",
       "      <th>4314</th>\n",
       "      <td>9992.799805</td>\n",
       "      <td>10056.400391</td>\n",
       "      <td>9934.799805</td>\n",
       "      <td>10004.400391</td>\n",
       "      <td>10004.390625</td>\n",
       "      <td>1380.390</td>\n",
       "      <td>1</td>\n",
       "      <td>11.600586</td>\n",
       "      <td>11.590820</td>\n",
       "      <td>121.600586</td>\n",
       "      <td>63.600586</td>\n",
       "      <td>58.000000</td>\n",
       "      <td>52.009766</td>\n",
       "      <td>-69.590820</td>\n",
       "      <td>1</td>\n",
       "      <td>0</td>\n",
       "      <td>True</td>\n",
       "      <td>False</td>\n",
       "      <td>1</td>\n",
       "      <td>0</td>\n",
       "    </tr>\n",
       "    <tr>\n",
       "      <th>4315</th>\n",
       "      <td>9951.299805</td>\n",
       "      <td>10164.799805</td>\n",
       "      <td>9938.099609</td>\n",
       "      <td>10148.200195</td>\n",
       "      <td>10148.189453</td>\n",
       "      <td>1481.660</td>\n",
       "      <td>1</td>\n",
       "      <td>196.900390</td>\n",
       "      <td>196.889648</td>\n",
       "      <td>226.700196</td>\n",
       "      <td>213.500000</td>\n",
       "      <td>13.200196</td>\n",
       "      <td>16.610352</td>\n",
       "      <td>-210.089844</td>\n",
       "      <td>1</td>\n",
       "      <td>0</td>\n",
       "      <td>True</td>\n",
       "      <td>True</td>\n",
       "      <td>1</td>\n",
       "      <td>0</td>\n",
       "    </tr>\n",
       "    <tr>\n",
       "      <th>4317</th>\n",
       "      <td>9980.900391</td>\n",
       "      <td>10187.000000</td>\n",
       "      <td>9964.200195</td>\n",
       "      <td>10187.000000</td>\n",
       "      <td>10186.989258</td>\n",
       "      <td>1811.260</td>\n",
       "      <td>1</td>\n",
       "      <td>206.099609</td>\n",
       "      <td>206.088867</td>\n",
       "      <td>222.799805</td>\n",
       "      <td>206.099609</td>\n",
       "      <td>16.700196</td>\n",
       "      <td>0.010742</td>\n",
       "      <td>-222.789063</td>\n",
       "      <td>1</td>\n",
       "      <td>0</td>\n",
       "      <td>True</td>\n",
       "      <td>True</td>\n",
       "      <td>1</td>\n",
       "      <td>1</td>\n",
       "    </tr>\n",
       "    <tr>\n",
       "      <th>...</th>\n",
       "      <td>...</td>\n",
       "      <td>...</td>\n",
       "      <td>...</td>\n",
       "      <td>...</td>\n",
       "      <td>...</td>\n",
       "      <td>...</td>\n",
       "      <td>...</td>\n",
       "      <td>...</td>\n",
       "      <td>...</td>\n",
       "      <td>...</td>\n",
       "      <td>...</td>\n",
       "      <td>...</td>\n",
       "      <td>...</td>\n",
       "      <td>...</td>\n",
       "      <td>...</td>\n",
       "      <td>...</td>\n",
       "      <td>...</td>\n",
       "      <td>...</td>\n",
       "      <td>...</td>\n",
       "      <td>...</td>\n",
       "    </tr>\n",
       "    <tr>\n",
       "      <th>6548</th>\n",
       "      <td>9170.700195</td>\n",
       "      <td>9186.700195</td>\n",
       "      <td>9098.400391</td>\n",
       "      <td>9114.000000</td>\n",
       "      <td>9114.000000</td>\n",
       "      <td>1610.943</td>\n",
       "      <td>1</td>\n",
       "      <td>-56.700195</td>\n",
       "      <td>-56.700195</td>\n",
       "      <td>88.299804</td>\n",
       "      <td>16.000000</td>\n",
       "      <td>72.299804</td>\n",
       "      <td>72.700195</td>\n",
       "      <td>-15.599609</td>\n",
       "      <td>0</td>\n",
       "      <td>0</td>\n",
       "      <td>False</td>\n",
       "      <td>False</td>\n",
       "      <td>1</td>\n",
       "      <td>0</td>\n",
       "    </tr>\n",
       "    <tr>\n",
       "      <th>6549</th>\n",
       "      <td>9150.299805</td>\n",
       "      <td>9211.099609</td>\n",
       "      <td>9141.400391</td>\n",
       "      <td>9174.599609</td>\n",
       "      <td>9174.599609</td>\n",
       "      <td>1216.731</td>\n",
       "      <td>0</td>\n",
       "      <td>24.299804</td>\n",
       "      <td>24.299804</td>\n",
       "      <td>69.699218</td>\n",
       "      <td>60.799804</td>\n",
       "      <td>8.899414</td>\n",
       "      <td>36.500000</td>\n",
       "      <td>-33.199218</td>\n",
       "      <td>1</td>\n",
       "      <td>0</td>\n",
       "      <td>True</td>\n",
       "      <td>True</td>\n",
       "      <td>1</td>\n",
       "      <td>0</td>\n",
       "    </tr>\n",
       "    <tr>\n",
       "      <th>6551</th>\n",
       "      <td>9220.400391</td>\n",
       "      <td>9224.900391</td>\n",
       "      <td>9132.900391</td>\n",
       "      <td>9191.799805</td>\n",
       "      <td>9191.799805</td>\n",
       "      <td>2189.008</td>\n",
       "      <td>0</td>\n",
       "      <td>-28.600586</td>\n",
       "      <td>-28.600586</td>\n",
       "      <td>92.000000</td>\n",
       "      <td>4.500000</td>\n",
       "      <td>87.500000</td>\n",
       "      <td>33.100586</td>\n",
       "      <td>-58.899414</td>\n",
       "      <td>0</td>\n",
       "      <td>0</td>\n",
       "      <td>False</td>\n",
       "      <td>True</td>\n",
       "      <td>1</td>\n",
       "      <td>1</td>\n",
       "    </tr>\n",
       "    <tr>\n",
       "      <th>6552</th>\n",
       "      <td>9113.200195</td>\n",
       "      <td>9116.700195</td>\n",
       "      <td>9035.099609</td>\n",
       "      <td>9080.500000</td>\n",
       "      <td>9080.500000</td>\n",
       "      <td>1489.871</td>\n",
       "      <td>0</td>\n",
       "      <td>-32.700195</td>\n",
       "      <td>-32.700195</td>\n",
       "      <td>81.600586</td>\n",
       "      <td>3.500000</td>\n",
       "      <td>78.100586</td>\n",
       "      <td>36.200195</td>\n",
       "      <td>-45.400391</td>\n",
       "      <td>0</td>\n",
       "      <td>0</td>\n",
       "      <td>False</td>\n",
       "      <td>True</td>\n",
       "      <td>1</td>\n",
       "      <td>0</td>\n",
       "    </tr>\n",
       "    <tr>\n",
       "      <th>6553</th>\n",
       "      <td>9120.799805</td>\n",
       "      <td>9175.200195</td>\n",
       "      <td>9114.099609</td>\n",
       "      <td>9157.799805</td>\n",
       "      <td>9157.799805</td>\n",
       "      <td>1013.892</td>\n",
       "      <td>0</td>\n",
       "      <td>37.000000</td>\n",
       "      <td>37.000000</td>\n",
       "      <td>61.100586</td>\n",
       "      <td>54.400390</td>\n",
       "      <td>6.700196</td>\n",
       "      <td>17.400390</td>\n",
       "      <td>-43.700196</td>\n",
       "      <td>1</td>\n",
       "      <td>0</td>\n",
       "      <td>True</td>\n",
       "      <td>True</td>\n",
       "      <td>1</td>\n",
       "      <td>0</td>\n",
       "    </tr>\n",
       "  </tbody>\n",
       "</table>\n",
       "<p>2036 rows × 20 columns</p>\n",
       "</div>"
      ],
      "text/plain": [
       "              Open          High           Low         Close     Adj Close  \\\n",
       "4311  10117.099609  10306.200195  10087.700195  10221.200195  10221.189453   \n",
       "4312  10129.500000  10140.700195   9954.799805  10052.299805  10052.290039   \n",
       "4314   9992.799805  10056.400391   9934.799805  10004.400391  10004.390625   \n",
       "4315   9951.299805  10164.799805   9938.099609  10148.200195  10148.189453   \n",
       "4317   9980.900391  10187.000000   9964.200195  10187.000000  10186.989258   \n",
       "...            ...           ...           ...           ...           ...   \n",
       "6548   9170.700195   9186.700195   9098.400391   9114.000000   9114.000000   \n",
       "6549   9150.299805   9211.099609   9141.400391   9174.599609   9174.599609   \n",
       "6551   9220.400391   9224.900391   9132.900391   9191.799805   9191.799805   \n",
       "6552   9113.200195   9116.700195   9035.099609   9080.500000   9080.500000   \n",
       "6553   9120.799805   9175.200195   9114.099609   9157.799805   9157.799805   \n",
       "\n",
       "        Volume  Target      diffCO     diffACO      diffHL      diffHO  \\\n",
       "4311  1199.380       0  104.100586  104.089844  218.500000  189.100586   \n",
       "4312  1579.790       1  -77.200195  -77.209961  185.900390   11.200195   \n",
       "4314  1380.390       1   11.600586   11.590820  121.600586   63.600586   \n",
       "4315  1481.660       1  196.900390  196.889648  226.700196  213.500000   \n",
       "4317  1811.260       1  206.099609  206.088867  222.799805  206.099609   \n",
       "...        ...     ...         ...         ...         ...         ...   \n",
       "6548  1610.943       1  -56.700195  -56.700195   88.299804   16.000000   \n",
       "6549  1216.731       0   24.299804   24.299804   69.699218   60.799804   \n",
       "6551  2189.008       0  -28.600586  -28.600586   92.000000    4.500000   \n",
       "6552  1489.871       0  -32.700195  -32.700195   81.600586    3.500000   \n",
       "6553  1013.892       0   37.000000   37.000000   61.100586   54.400390   \n",
       "\n",
       "          diffOL     diffHC      diffLC UpDown VolumeDump  Color Alcista  \\\n",
       "4311   29.399414  85.010742 -133.489258      1          0   True   False   \n",
       "4312  174.700195  88.410156  -97.490234      0          0  False   False   \n",
       "4314   58.000000  52.009766  -69.590820      1          0   True   False   \n",
       "4315   13.200196  16.610352 -210.089844      1          0   True    True   \n",
       "4317   16.700196   0.010742 -222.789063      1          0   True    True   \n",
       "...          ...        ...         ...    ...        ...    ...     ...   \n",
       "6548   72.299804  72.700195  -15.599609      0          0  False   False   \n",
       "6549    8.899414  36.500000  -33.199218      1          0   True    True   \n",
       "6551   87.500000  33.100586  -58.899414      0          0  False    True   \n",
       "6552   78.100586  36.200195  -45.400391      0          0  False    True   \n",
       "6553    6.700196  17.400390  -43.700196      1          0   True    True   \n",
       "\n",
       "     diffOLDump bins  \n",
       "4311          1    0  \n",
       "4312          0    0  \n",
       "4314          1    0  \n",
       "4315          1    0  \n",
       "4317          1    1  \n",
       "...         ...  ...  \n",
       "6548          1    0  \n",
       "6549          1    0  \n",
       "6551          1    1  \n",
       "6552          1    0  \n",
       "6553          1    0  \n",
       "\n",
       "[2036 rows x 20 columns]"
      ]
     },
     "execution_count": 1240,
     "metadata": {},
     "output_type": "execute_result"
    }
   ],
   "source": [
    "trainsetND"
   ]
  },
  {
   "cell_type": "code",
   "execution_count": 1241,
   "id": "07e4fc88",
   "metadata": {
    "scrolled": true
   },
   "outputs": [
    {
     "data": {
      "text/html": [
       "<div>\n",
       "<style scoped>\n",
       "    .dataframe tbody tr th:only-of-type {\n",
       "        vertical-align: middle;\n",
       "    }\n",
       "\n",
       "    .dataframe tbody tr th {\n",
       "        vertical-align: top;\n",
       "    }\n",
       "\n",
       "    .dataframe thead th {\n",
       "        text-align: right;\n",
       "    }\n",
       "</style>\n",
       "<table border=\"1\" class=\"dataframe\">\n",
       "  <thead>\n",
       "    <tr style=\"text-align: right;\">\n",
       "      <th></th>\n",
       "      <th>test_index</th>\n",
       "      <th>Date</th>\n",
       "      <th>Open</th>\n",
       "      <th>High</th>\n",
       "      <th>Low</th>\n",
       "      <th>Close</th>\n",
       "      <th>Adj Close</th>\n",
       "      <th>Volume</th>\n",
       "    </tr>\n",
       "  </thead>\n",
       "  <tbody>\n",
       "    <tr>\n",
       "      <th>0</th>\n",
       "      <td>6557</td>\n",
       "      <td>2019-06-05</td>\n",
       "      <td>9136.799805</td>\n",
       "      <td>9173.400391</td>\n",
       "      <td>9095.000000</td>\n",
       "      <td>9150.500000</td>\n",
       "      <td>9150.500000</td>\n",
       "      <td>158753000.0</td>\n",
       "    </tr>\n",
       "    <tr>\n",
       "      <th>1</th>\n",
       "      <td>6558</td>\n",
       "      <td>2019-06-06</td>\n",
       "      <td>9169.200195</td>\n",
       "      <td>9246.200195</td>\n",
       "      <td>9136.700195</td>\n",
       "      <td>9169.200195</td>\n",
       "      <td>9169.200195</td>\n",
       "      <td>212720900.0</td>\n",
       "    </tr>\n",
       "    <tr>\n",
       "      <th>2</th>\n",
       "      <td>6559</td>\n",
       "      <td>2019-06-07</td>\n",
       "      <td>9186.700195</td>\n",
       "      <td>9261.400391</td>\n",
       "      <td>9185.700195</td>\n",
       "      <td>9236.099609</td>\n",
       "      <td>9236.099609</td>\n",
       "      <td>150664700.0</td>\n",
       "    </tr>\n",
       "    <tr>\n",
       "      <th>3</th>\n",
       "      <td>6560</td>\n",
       "      <td>2019-06-10</td>\n",
       "      <td>9284.200195</td>\n",
       "      <td>9302.200195</td>\n",
       "      <td>9248.099609</td>\n",
       "      <td>9294.099609</td>\n",
       "      <td>9294.099609</td>\n",
       "      <td>102323700.0</td>\n",
       "    </tr>\n",
       "    <tr>\n",
       "      <th>4</th>\n",
       "      <td>6561</td>\n",
       "      <td>2019-06-11</td>\n",
       "      <td>9288.599609</td>\n",
       "      <td>9332.500000</td>\n",
       "      <td>9273.400391</td>\n",
       "      <td>9282.099609</td>\n",
       "      <td>9282.099609</td>\n",
       "      <td>144701200.0</td>\n",
       "    </tr>\n",
       "    <tr>\n",
       "      <th>...</th>\n",
       "      <td>...</td>\n",
       "      <td>...</td>\n",
       "      <td>...</td>\n",
       "      <td>...</td>\n",
       "      <td>...</td>\n",
       "      <td>...</td>\n",
       "      <td>...</td>\n",
       "      <td>...</td>\n",
       "    </tr>\n",
       "    <tr>\n",
       "      <th>721</th>\n",
       "      <td>7278</td>\n",
       "      <td>2022-03-25</td>\n",
       "      <td>8314.099609</td>\n",
       "      <td>8363.200195</td>\n",
       "      <td>8286.500000</td>\n",
       "      <td>8330.599609</td>\n",
       "      <td>8330.599609</td>\n",
       "      <td>156189000.0</td>\n",
       "    </tr>\n",
       "    <tr>\n",
       "      <th>722</th>\n",
       "      <td>7279</td>\n",
       "      <td>2022-03-28</td>\n",
       "      <td>8354.400391</td>\n",
       "      <td>8485.700195</td>\n",
       "      <td>8354.400391</td>\n",
       "      <td>8365.599609</td>\n",
       "      <td>8365.599609</td>\n",
       "      <td>167961800.0</td>\n",
       "    </tr>\n",
       "    <tr>\n",
       "      <th>723</th>\n",
       "      <td>7280</td>\n",
       "      <td>2022-03-29</td>\n",
       "      <td>8451.000000</td>\n",
       "      <td>8621.000000</td>\n",
       "      <td>8419.700195</td>\n",
       "      <td>8614.599609</td>\n",
       "      <td>8614.599609</td>\n",
       "      <td>257812200.0</td>\n",
       "    </tr>\n",
       "    <tr>\n",
       "      <th>724</th>\n",
       "      <td>7281</td>\n",
       "      <td>2022-03-30</td>\n",
       "      <td>8583.299805</td>\n",
       "      <td>8597.400391</td>\n",
       "      <td>8508.900391</td>\n",
       "      <td>8550.599609</td>\n",
       "      <td>8550.599609</td>\n",
       "      <td>185389000.0</td>\n",
       "    </tr>\n",
       "    <tr>\n",
       "      <th>725</th>\n",
       "      <td>7282</td>\n",
       "      <td>2022-03-31</td>\n",
       "      <td>8562.599609</td>\n",
       "      <td>8588.299805</td>\n",
       "      <td>8445.099609</td>\n",
       "      <td>8445.099609</td>\n",
       "      <td>8445.099609</td>\n",
       "      <td>220117500.0</td>\n",
       "    </tr>\n",
       "  </tbody>\n",
       "</table>\n",
       "<p>726 rows × 8 columns</p>\n",
       "</div>"
      ],
      "text/plain": [
       "     test_index        Date         Open         High          Low  \\\n",
       "0          6557  2019-06-05  9136.799805  9173.400391  9095.000000   \n",
       "1          6558  2019-06-06  9169.200195  9246.200195  9136.700195   \n",
       "2          6559  2019-06-07  9186.700195  9261.400391  9185.700195   \n",
       "3          6560  2019-06-10  9284.200195  9302.200195  9248.099609   \n",
       "4          6561  2019-06-11  9288.599609  9332.500000  9273.400391   \n",
       "..          ...         ...          ...          ...          ...   \n",
       "721        7278  2022-03-25  8314.099609  8363.200195  8286.500000   \n",
       "722        7279  2022-03-28  8354.400391  8485.700195  8354.400391   \n",
       "723        7280  2022-03-29  8451.000000  8621.000000  8419.700195   \n",
       "724        7281  2022-03-30  8583.299805  8597.400391  8508.900391   \n",
       "725        7282  2022-03-31  8562.599609  8588.299805  8445.099609   \n",
       "\n",
       "           Close    Adj Close       Volume  \n",
       "0    9150.500000  9150.500000  158753000.0  \n",
       "1    9169.200195  9169.200195  212720900.0  \n",
       "2    9236.099609  9236.099609  150664700.0  \n",
       "3    9294.099609  9294.099609  102323700.0  \n",
       "4    9282.099609  9282.099609  144701200.0  \n",
       "..           ...          ...          ...  \n",
       "721  8330.599609  8330.599609  156189000.0  \n",
       "722  8365.599609  8365.599609  167961800.0  \n",
       "723  8614.599609  8614.599609  257812200.0  \n",
       "724  8550.599609  8550.599609  185389000.0  \n",
       "725  8445.099609  8445.099609  220117500.0  \n",
       "\n",
       "[726 rows x 8 columns]"
      ]
     },
     "execution_count": 1241,
     "metadata": {},
     "output_type": "execute_result"
    }
   ],
   "source": [
    "testset"
   ]
  },
  {
   "cell_type": "code",
   "execution_count": 1242,
   "id": "ccad4e06",
   "metadata": {
    "scrolled": true
   },
   "outputs": [
    {
     "data": {
      "text/plain": [
       "1.0"
      ]
     },
     "execution_count": 1242,
     "metadata": {},
     "output_type": "execute_result"
    }
   ],
   "source": [
    "X=trainsetND[['bins','Adj Close','Open']]\n",
    "scaler=StandardScaler()\n",
    "scaler.fit(X)\n",
    "X=scaler.transform(X)\n",
    "pca=PCA(n_components=3)\n",
    "pca.fit(X)\n",
    "np.sum(pca.explained_variance_ratio_)"
   ]
  },
  {
   "cell_type": "code",
   "execution_count": 1243,
   "id": "19386f63",
   "metadata": {
    "scrolled": true
   },
   "outputs": [
    {
     "data": {
      "text/plain": [
       "array([[-1.35279796,  0.64626091,  0.55864697],\n",
       "       [-1.35279796,  0.49524293,  0.56969059],\n",
       "       [-1.35279796,  0.45241464,  0.44794729],\n",
       "       ...,\n",
       "       [ 0.02780186, -0.27414691, -0.23994093],\n",
       "       [-1.35279796, -0.37366336, -0.33541194],\n",
       "       [-1.35279796, -0.30454731, -0.32864384]])"
      ]
     },
     "execution_count": 1243,
     "metadata": {},
     "output_type": "execute_result"
    }
   ],
   "source": [
    "X"
   ]
  },
  {
   "cell_type": "code",
   "execution_count": 1244,
   "id": "61fc845d",
   "metadata": {},
   "outputs": [],
   "source": [
    "new_values=pca.transform(X)\n"
   ]
  },
  {
   "cell_type": "code",
   "execution_count": 1245,
   "id": "9ad9b11c",
   "metadata": {},
   "outputs": [
    {
     "data": {
      "text/plain": [
       "array([[-0.78360033, -1.39314797,  0.07007979],\n",
       "       [-0.68472942, -1.38889818, -0.04452768],\n",
       "       [-0.56851224, -1.38277447,  0.01125549],\n",
       "       ...,\n",
       "       [ 0.3616836 ,  0.04572186, -0.02440504],\n",
       "       [ 0.56812488, -1.32629423, -0.01911893],\n",
       "       [ 0.51452674, -1.32870487,  0.02497488]])"
      ]
     },
     "execution_count": 1245,
     "metadata": {},
     "output_type": "execute_result"
    }
   ],
   "source": [
    "new_values"
   ]
  },
  {
   "cell_type": "code",
   "execution_count": 1246,
   "id": "d679c27f",
   "metadata": {},
   "outputs": [],
   "source": [
    "features=new_values\n",
    "labels=trainsetND['Target']\n",
    "X_train, X_test, y_train, y_test= train_test_split (features, labels, test_size = 0.4, random_state=1)\n",
    "X_test, X_val, y_test, y_val= train_test_split (X_test, y_test, test_size = 0.5, random_state=1)\n"
   ]
  },
  {
   "cell_type": "code",
   "execution_count": 1247,
   "id": "4e679c4a",
   "metadata": {},
   "outputs": [
    {
     "data": {
      "text/plain": [
       "array([[-0.78360033, -1.39314797,  0.07007979],\n",
       "       [-0.68472942, -1.38889818, -0.04452768],\n",
       "       [-0.56851224, -1.38277447,  0.01125549],\n",
       "       ...,\n",
       "       [ 0.3616836 ,  0.04572186, -0.02440504],\n",
       "       [ 0.56812488, -1.32629423, -0.01911893],\n",
       "       [ 0.51452674, -1.32870487,  0.02497488]])"
      ]
     },
     "execution_count": 1247,
     "metadata": {},
     "output_type": "execute_result"
    }
   ],
   "source": [
    "features"
   ]
  },
  {
   "cell_type": "code",
   "execution_count": 1248,
   "id": "b8346143",
   "metadata": {
    "scrolled": true
   },
   "outputs": [
    {
     "name": "stdout",
     "output_type": "stream",
     "text": [
      "Best params: {'max_depth': 4, 'n_estimators': 100}\n",
      "\n",
      "0.509 (+/-0.029) for {'max_depth': 2, 'n_estimators': 5}\n",
      "0.536 (+/-0.023) for {'max_depth': 2, 'n_estimators': 50}\n",
      "0.528 (+/-0.03) for {'max_depth': 2, 'n_estimators': 100}\n",
      "0.531 (+/-0.022) for {'max_depth': 2, 'n_estimators': 250}\n",
      "0.532 (+/-0.039) for {'max_depth': 4, 'n_estimators': 5}\n",
      "0.523 (+/-0.021) for {'max_depth': 4, 'n_estimators': 50}\n",
      "0.542 (+/-0.029) for {'max_depth': 4, 'n_estimators': 100}\n",
      "0.531 (+/-0.053) for {'max_depth': 4, 'n_estimators': 250}\n",
      "0.504 (+/-0.061) for {'max_depth': 6, 'n_estimators': 5}\n",
      "0.518 (+/-0.089) for {'max_depth': 6, 'n_estimators': 50}\n",
      "0.516 (+/-0.065) for {'max_depth': 6, 'n_estimators': 100}\n",
      "0.521 (+/-0.043) for {'max_depth': 6, 'n_estimators': 250}\n",
      "0.527 (+/-0.058) for {'max_depth': 8, 'n_estimators': 5}\n",
      "0.518 (+/-0.078) for {'max_depth': 8, 'n_estimators': 50}\n",
      "0.522 (+/-0.058) for {'max_depth': 8, 'n_estimators': 100}\n",
      "0.518 (+/-0.081) for {'max_depth': 8, 'n_estimators': 250}\n",
      "0.513 (+/-0.031) for {'max_depth': 16, 'n_estimators': 5}\n",
      "0.534 (+/-0.091) for {'max_depth': 16, 'n_estimators': 50}\n",
      "0.534 (+/-0.058) for {'max_depth': 16, 'n_estimators': 100}\n",
      "0.516 (+/-0.089) for {'max_depth': 16, 'n_estimators': 250}\n",
      "0.53 (+/-0.054) for {'max_depth': 32, 'n_estimators': 5}\n",
      "0.528 (+/-0.099) for {'max_depth': 32, 'n_estimators': 50}\n",
      "0.527 (+/-0.086) for {'max_depth': 32, 'n_estimators': 100}\n",
      "0.524 (+/-0.09) for {'max_depth': 32, 'n_estimators': 250}\n",
      "0.527 (+/-0.072) for {'max_depth': None, 'n_estimators': 5}\n",
      "0.526 (+/-0.075) for {'max_depth': None, 'n_estimators': 50}\n",
      "0.513 (+/-0.081) for {'max_depth': None, 'n_estimators': 100}\n",
      "0.523 (+/-0.086) for {'max_depth': None, 'n_estimators': 250}\n",
      "Best params: {'n_neighbors': 7}\n",
      "\n",
      "0.542 (+/-0.082) for {'n_neighbors': 1}\n",
      "0.565 (+/-0.066) for {'n_neighbors': 3}\n",
      "0.558 (+/-0.046) for {'n_neighbors': 5}\n",
      "0.572 (+/-0.067) for {'n_neighbors': 7}\n"
     ]
    },
    {
     "data": {
      "text/plain": [
       "['knn_Hackathon.pkl']"
      ]
     },
     "execution_count": 1248,
     "metadata": {},
     "output_type": "execute_result"
    }
   ],
   "source": [
    "##Random Forest\n",
    "rf= RandomForestClassifier()\n",
    "parameters = {\n",
    "    'n_estimators': [5,50,100,250],\n",
    "    'max_depth': [2,4,6,8,16,32,None],\n",
    "}\n",
    "\n",
    "cv=GridSearchCV(rf,parameters, cv=5,n_jobs = -1)\n",
    "cv.fit(X_train, y_train.values.ravel())\n",
    "print_results(cv)\n",
    "joblib.dump(cv.best_estimator_,'RF_Hackathon.pkl')\n",
    "##KNN\n",
    "knn = KNeighborsClassifier()\n",
    "parameters = {\n",
    "    'n_neighbors': [1,3,5,7],\n",
    "}\n",
    "cv=GridSearchCV(knn,parameters, cv=5,n_jobs = -1)\n",
    "cv.fit(X_train, y_train.values.ravel())\n",
    "print_results(cv)\n",
    "\n",
    "joblib.dump(cv.best_estimator_,'knn_Hackathon.pkl')"
   ]
  },
  {
   "cell_type": "code",
   "execution_count": 1249,
   "id": "d1afbefc",
   "metadata": {},
   "outputs": [
    {
     "name": "stdout",
     "output_type": "stream",
     "text": [
      "RF / Accuracy 0.561 / Precision 0.561 / Recall 0.561 / Latency 0 ms\n",
      "knn / Accuracy 0.581 / Precision 0.581 / Recall 0.581 / Latency 0 ms\n"
     ]
    }
   ],
   "source": [
    "##Compare models\n",
    "models = {}\n",
    "for mdl in ['RF','knn']:\n",
    "  models[mdl]=joblib.load('{}_Hackathon.pkl'.format(mdl))\n",
    "for name, mdl in models.items():\n",
    "  evaluate_model(name,mdl, X_val,y_val)"
   ]
  },
  {
   "cell_type": "code",
   "execution_count": 1250,
   "id": "45dfa3cd",
   "metadata": {
    "scrolled": true
   },
   "outputs": [
    {
     "name": "stdout",
     "output_type": "stream",
     "text": [
      "Best params: {'final_estimator': LogisticRegression(C=0.1), 'passthrough': False}\n",
      "\n",
      "0.532 (+/-0.019) for {'final_estimator': LogisticRegression(C=1), 'passthrough': True}\n",
      "0.555 (+/-0.043) for {'final_estimator': LogisticRegression(C=1), 'passthrough': False}\n",
      "0.538 (+/-0.021) for {'final_estimator': LogisticRegression(C=0.1), 'passthrough': True}\n",
      "0.562 (+/-0.054) for {'final_estimator': LogisticRegression(C=0.1), 'passthrough': False}\n"
     ]
    },
    {
     "data": {
      "text/plain": [
       "['sc_Hackathon.pkl']"
      ]
     },
     "execution_count": 1250,
     "metadata": {},
     "output_type": "execute_result"
    }
   ],
   "source": [
    "estimators=[('rf',RandomForestClassifier(max_depth= 8, n_estimators=50)),('knn',KNeighborsClassifier(n_neighbors=3))]\n",
    "sc=StackingClassifier(estimators=estimators)\n",
    "parameters={\n",
    "    'passthrough': [True, False],\n",
    "    'final_estimator': [LogisticRegression(C=1),LogisticRegression(C=0.1)]\n",
    "}\n",
    "cv=GridSearchCV(sc,parameters,cv=5,n_jobs = -1)\n",
    "cv.fit(X_train, y_train.values.ravel())\n",
    "print_results(cv)\n",
    "\n",
    "joblib.dump(cv.best_estimator_,'sc_Hackathon.pkl')"
   ]
  },
  {
   "cell_type": "code",
   "execution_count": 1251,
   "id": "f75a1a1e",
   "metadata": {},
   "outputs": [
    {
     "name": "stdout",
     "output_type": "stream",
     "text": [
      "RF / Accuracy 0.561 / Precision 0.561 / Recall 0.561 / Latency 0 ms\n",
      "knn / Accuracy 0.581 / Precision 0.581 / Recall 0.581 / Latency 0 ms\n",
      "sc / Accuracy 0.581 / Precision 0.581 / Recall 0.581 / Latency 0 ms\n"
     ]
    }
   ],
   "source": [
    "##Compare models\n",
    "models = {}\n",
    "for mdl in ['RF','knn','sc']:\n",
    "  models[mdl]=joblib.load('{}_Hackathon.pkl'.format(mdl))\n",
    "for name, mdl in models.items():\n",
    "  evaluate_model(name,mdl, X_val,y_val)"
   ]
  },
  {
   "cell_type": "code",
   "execution_count": 1252,
   "id": "4a4a723f",
   "metadata": {},
   "outputs": [],
   "source": [
    "testset['Volume']=testset['Volume']/100000.0"
   ]
  },
  {
   "cell_type": "code",
   "execution_count": 1253,
   "id": "d9aae5fd",
   "metadata": {
    "scrolled": true
   },
   "outputs": [
    {
     "data": {
      "text/plain": [
       "0      0\n",
       "1      1\n",
       "2      0\n",
       "3      0\n",
       "4      0\n",
       "      ..\n",
       "721    0\n",
       "722    0\n",
       "723    1\n",
       "724    1\n",
       "725    1\n",
       "Name: bins, Length: 726, dtype: object"
      ]
     },
     "execution_count": 1253,
     "metadata": {},
     "output_type": "execute_result"
    }
   ],
   "source": [
    "testset['bins'] = (pd.cut(x=testset['Volume'], bins=[1, 1750, 2750, 5000],labels=['0','1','2'])).astype('object')\n",
    "testset['bins']"
   ]
  },
  {
   "cell_type": "code",
   "execution_count": 1254,
   "id": "436c9ec2",
   "metadata": {},
   "outputs": [],
   "source": [
    "testset['Open']=testset['Open'].astype('float32')\n",
    "testset['Adj Close']=testset['Adj Close'].astype('float32')"
   ]
  },
  {
   "cell_type": "code",
   "execution_count": 1255,
   "id": "c7deb855",
   "metadata": {},
   "outputs": [],
   "source": [
    "testset=testset.fillna(0)"
   ]
  },
  {
   "cell_type": "code",
   "execution_count": 1256,
   "id": "b3b95b54",
   "metadata": {},
   "outputs": [],
   "source": [
    "X=testset[['bins','Adj Close','Open']]\n",
    "scaler=StandardScaler()\n",
    "scaler.fit(X)\n",
    "X=scaler.transform(X)\n",
    "pca=PCA(n_components=3)\n",
    "pca.fit(X)\n",
    "np.sum(pca.explained_variance_ratio_)\n",
    "new_values=pca.transform(X)"
   ]
  },
  {
   "cell_type": "code",
   "execution_count": 1257,
   "id": "90a39502",
   "metadata": {
    "scrolled": true
   },
   "outputs": [],
   "source": [
    "features=new_values\n",
    "model=joblib.load('sc_Hackathon.pkl')\n",
    "testset['Target']=model.predict(features)"
   ]
  },
  {
   "cell_type": "code",
   "execution_count": 1258,
   "id": "b087524e",
   "metadata": {},
   "outputs": [
    {
     "data": {
      "text/plain": [
       "0      0\n",
       "1      1\n",
       "2      1\n",
       "3      1\n",
       "4      1\n",
       "      ..\n",
       "721    1\n",
       "722    1\n",
       "723    1\n",
       "724    0\n",
       "725    0\n",
       "Name: Target, Length: 726, dtype: int64"
      ]
     },
     "execution_count": 1258,
     "metadata": {},
     "output_type": "execute_result"
    }
   ],
   "source": [
    "testset['Target']"
   ]
  },
  {
   "cell_type": "code",
   "execution_count": 1259,
   "id": "3925627a",
   "metadata": {},
   "outputs": [],
   "source": [
    "predictions=testset[['test_index','Target']]\n",
    "predictions.to_csv('prediction.csv',index=False)\n",
    "predictions.to_json('predictions.json')"
   ]
  },
  {
   "cell_type": "code",
   "execution_count": null,
   "id": "2cef7206",
   "metadata": {},
   "outputs": [],
   "source": []
  }
 ],
 "metadata": {
  "kernelspec": {
   "display_name": "Python 3 (ipykernel)",
   "language": "python",
   "name": "python3"
  },
  "language_info": {
   "codemirror_mode": {
    "name": "ipython",
    "version": 3
   },
   "file_extension": ".py",
   "mimetype": "text/x-python",
   "name": "python",
   "nbconvert_exporter": "python",
   "pygments_lexer": "ipython3",
   "version": "3.9.5"
  }
 },
 "nbformat": 4,
 "nbformat_minor": 5
}
